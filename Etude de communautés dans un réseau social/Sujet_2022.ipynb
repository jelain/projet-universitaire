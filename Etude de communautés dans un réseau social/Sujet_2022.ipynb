{
 "cells": [
  {
   "cell_type": "markdown",
   "metadata": {
    "deletable": false,
    "editable": false,
    "run_control": {
     "frozen": true
    }
   },
   "source": [
    "# <center> Etude de communautés dans un réseau social</center>\n",
    "<center> SAE 1.01 / 2022 - 23 </center>\n",
    "\n"
   ]
  },
  {
   "cell_type": "markdown",
   "metadata": {
    "deletable": false,
    "editable": false,
    "run_control": {
     "frozen": true
    }
   },
   "source": [
    "Cette SAE est à faire en **binôme**.\n",
    "\n",
    "**Calendrier**\n",
    "- Un contrôle de 2h en lien avec le contenu de cette SAE aura lieu le mercredi **26 octobre** 2022.\n",
    "- Le projet est à rendre le vendredi **28 octobre** 2022. Les modalités de rendu vous seront précisées par votre enseignant.\n",
    "\n",
    "**Evaluation**\n",
    "- Le projet comptera pour 40% de la note de SAE 1.01. <BR>\n",
    "    Il sera particulièrement tenu compte de la qualité du code, des **commentaires** et **docstrings**, des fonctions de **tests unitaires** pour les fonctions renvoyant des résultats. <BR><BR>\n",
    "    \n",
    "- Le contrôle compte pour 60% de la note finale."
   ]
  },
  {
   "cell_type": "markdown",
   "metadata": {
    "deletable": false,
    "editable": false,
    "run_control": {
     "frozen": true
    }
   },
   "source": [
    "## <center> Sujet </center>\n",
    "\n",
    "Une *communauté* est un ensemble de personnes développant des interactions dans un réseau social.\n",
    "\n",
    "Dans ce projet, on étudie des communautés modélisées sous différentes formes. Pour cela, on développe des fonctions permettant d'extraire des informations relatives à ces réseaux. "
   ]
  },
  {
   "cell_type": "markdown",
   "metadata": {
    "deletable": false,
    "editable": false,
    "run_control": {
     "frozen": true
    }
   },
   "source": [
    "On modélise, dans un premier temps, les interactions entre personnes dans un tableau `amis` de chaînes de caractères contenant les prénoms des membres du réseau et tel que `amis[2*i]` a des interactions avec `amis[2*i+1]`.\n",
    "\n",
    "On suppose que chaque interaction n'est décrite qu'une seule fois dans le tableau, et qu'une personne n'a pas d'interaction avec elle-même.\n",
    "\n",
    "**Exemple** : "
   ]
  },
  {
   "cell_type": "code",
   "execution_count": 68,
   "metadata": {
    "deletable": false,
    "editable": false
   },
   "outputs": [],
   "source": [
    "amis = [\"Alice\", \"Bob\", \"Alice\", \"Charlie\", \"Bob\", \"Denis\"]"
   ]
  },
  {
   "cell_type": "markdown",
   "metadata": {
    "deletable": false,
    "editable": false,
    "run_control": {
     "frozen": true
    }
   },
   "source": [
    "Ici, \n",
    "- Alice a des interactions Bob et Charlie, \n",
    "- Bob a des intractions avec Alice et Denis,\n",
    "- Charlie a des interactions avec Alice et\n",
    "- Denis a des interactions avec Bob."
   ]
  },
  {
   "cell_type": "markdown",
   "metadata": {
    "deletable": false,
    "editable": false,
    "run_control": {
     "frozen": true
    }
   },
   "source": [
    "#### Question préliminaire : Modélisation d'un réseau par un tableau\n",
    "\n",
    "Muriel, Yasmine et Joël sont amis. Yasmine est amie avec Thomas. \n",
    "Joël, Nassim, Andrea et Ali sont amis. Thomas est ami de Daria et Carole. Thierry, Axel et Léo sont amis. Léo est ami de Valentin qui est ami d'Andrea.\n",
    "\n",
    "- Construire un tableau `p_amis` qui modélise ce réseau d'amitié en selon le principe qui vient d'être décrit."
   ]
  },
  {
   "cell_type": "code",
   "execution_count": 2,
   "metadata": {},
   "outputs": [
    {
     "name": "stdout",
     "output_type": "stream",
     "text": [
      "34\n"
     ]
    }
   ],
   "source": [
    "p_amis=[\"Muriel\",\"Yasmine\",\"Muriel\",\"Joel\",\"Yasmine\",\"Joel\",\n",
    "        \"Yasmine\",\"Thomas\",\n",
    "        \"Joel\",\"Nassim\",\"Joel\",\"Andrea\",\"Joel\",\"Ali\",\"Nassim\",\"Andrea\",\"Nassim\",\"Ali\",\"Andrea\",\"Ali\",\n",
    "        \"Thomas\",\"Daria\",\"Thomas\",\"Carole\",\n",
    "        \"Thierry\",\"Axel\",\"Thierry\",\"Leo\",\"Axel\",\"Leo\",\n",
    "        \"Leo\",\"Valentin\",\"Valentin\",\"Andrea\"]\n",
    "\n",
    "print(len(p_amis))"
   ]
  },
  {
   "cell_type": "markdown",
   "metadata": {
    "deletable": false,
    "editable": false,
    "run_control": {
     "frozen": true
    }
   },
   "source": [
    "#### Question 1 : Nombre d'amis d'une personne\n",
    "\n",
    "- Étant donné un tableau `amis`, écrire une fonction `nb_amis(amis, prenom)` qui retourne le nombre d'amis de `prenom` à partir des données du tableau `amis`. "
   ]
  },
  {
   "cell_type": "code",
   "execution_count": 4,
   "metadata": {},
   "outputs": [
    {
     "name": "stdout",
     "output_type": "stream",
     "text": [
      "test Ok\n"
     ]
    }
   ],
   "source": [
    "def nb_amis(amis,prenom):\n",
    "    nbr=0\n",
    "    i=0\n",
    "    while i<len(amis):\n",
    "        if amis[i]==prenom:\n",
    "            nbr+=1\n",
    "        i+=1\n",
    "    return nbr\n",
    "\n",
    "def test_nb_amis():\n",
    "    assert nb_amis(p_amis,\"Muriel\") == 2\n",
    "    assert nb_amis(p_amis,\"Yasmine\") == 3\n",
    "    assert nb_amis(amis,\"Alice\") == 2\n",
    "    assert not nb_amis(amis,\"Yasmine\") == 2\n",
    "    print(\"test Ok\")\n",
    "test_nb_amis()"
   ]
  },
  {
   "cell_type": "markdown",
   "metadata": {
    "deletable": false,
    "editable": false,
    "run_control": {
     "frozen": true
    }
   },
   "source": [
    "#### Question 2 : Nombre de membres d'un réseau social \n",
    "\n",
    "- Ecrire une fonction `taille_reseau(amis)` qui à partir d'un tableau `amis`retourne le nombre de personnes distinctes participant à ce réseau social."
   ]
  },
  {
   "cell_type": "code",
   "execution_count": 7,
   "metadata": {},
   "outputs": [
    {
     "name": "stdout",
     "output_type": "stream",
     "text": [
      "test Ok\n"
     ]
    }
   ],
   "source": [
    "def taille_reseau(amis):\n",
    "    pers=[]\n",
    "    i=0\n",
    "    while i<len(amis):\n",
    "        if amis[i] not in pers:\n",
    "            pers.append(amis[i])\n",
    "        i+=1\n",
    "    return len(pers)\n",
    "\n",
    "def test_taille_reseau():\n",
    "    assert taille_reseau(p_amis)==13\n",
    "    assert taille_reseau(amis)==4\n",
    "    assert not taille_reseau(p_amis)==10\n",
    "    print(\"test Ok\")\n",
    "    \n",
    "test_taille_reseau()"
   ]
  },
  {
   "cell_type": "markdown",
   "metadata": {
    "deletable": false,
    "editable": false,
    "run_control": {
     "frozen": true
    }
   },
   "source": [
    "#### Question 3 :  Lecture des données d'un réseau à partir d'un fichier\n",
    "On suppose que les données sur un réseau social sont stockées dans un fichier CSV de la manière suivante :\n",
    "```\n",
    "prenom1;prenom2\n",
    "prenom3;prenom4\n",
    "prenom5;prenom6\n",
    "...\n",
    "```\n",
    "Autrement dit, chaque ligne du fichier contient une paire de prénoms séparés par un `';'` correspondant à deux personnes ayant des interactions. \n",
    "\n",
    "**NB** : Quatre fichiers CSV de ce type sont fournis dans le répertoire `files/`, il s'agit des fichiers`Communaute1.csv`, `Communaute2.csv`,`Communaute3.csv` et `Communaute4.csv`. \n",
    "Il est recommandé d'en fabriquer d'autres. \n",
    "\n",
    "- Ecrire une fonction `lecture_reseau(path)` prenant en paramètre un chemin vers un tel fichier CSV et retournant un tableau modélisant les interactions entre les personnes du fichier."
   ]
  },
  {
   "cell_type": "code",
   "execution_count": 2,
   "metadata": {},
   "outputs": [
    {
     "name": "stdout",
     "output_type": "stream",
     "text": [
      "test Ok\n"
     ]
    }
   ],
   "source": [
    "def lecture_reseau(path):\n",
    "    f=open(path,'r')\n",
    "    ligne=f.readline()\n",
    "    tab=[]\n",
    "    a=\"\"\n",
    "    while ''!=ligne:\n",
    "        amis=ligne.split(\";\")\n",
    "        i=0\n",
    "        while i<len(amis):\n",
    "            tab.append(amis[i].strip())\n",
    "            i+=1\n",
    "        ligne=f.readline()\n",
    "    return tab\n",
    "\n",
    "\n",
    "def test_lecture_reseau():\n",
    "    assert lecture_reseau(\"files/Communaute1.csv\")==['Giedrius', 'Mady', 'Kirsa', 'Vittore', 'Barbra', 'Faizel', \n",
    "                                                 'Vittorio', 'Vittore', 'Louis', 'Placide', 'Vittorio', 'Barbra',\n",
    "                                                 'Cloe', 'Björn', 'Vittore', 'Barbra', 'Mady', 'Rufino', 'Cloe',\n",
    "                                                 'Vittorio', 'Vittorio', 'Placide', 'Olavi', 'Rufino', 'Vittore',\n",
    "                                                 'Cloe', 'Teodor', 'Cloe', 'Louis', 'Cloe', 'Idelle', 'Mady', 'Illtyd',\n",
    "                                                 'Giedrius', 'Teodor', 'Olavi', 'Vittore', 'Mady', 'Rufino', 'Giedrius',\n",
    "                                                 'Placide', 'Louis', 'Louis', 'Vittorio', 'Giedrius', 'Glenys', 'Björn',\n",
    "                                                 'Olavi', 'Faizel', 'Placide', 'Rufino', 'Illtyd', 'Placide', 'Louis',\n",
    "                                                 'Kirsa', 'Vittorio', 'Mady', 'Placide', 'Illtyd', 'Olavi', 'Vittorio',\n",
    "                                                 'Placide', 'Cloe', 'Mady', 'Rufino', 'Vittorio', 'Placide', 'Rufino',\n",
    "                                                 'Rufino', 'Vittorio', 'Giedrius', 'Illtyd', 'Rufino', 'Teodor', 'Olavi',\n",
    "                                                 'Rufino', 'Placide', 'Jakob', 'Cloe', 'Björn', 'Barbra', 'Kirsa', 'Idelle',\n",
    "                                                 'Cloe', 'Rufino', 'Illtyd', 'Rufino', 'Faizel', 'Rufino', 'Louis', 'Björn', 'Cloe',\n",
    "                                                 'Vittorio', 'Olavi', 'Vittorio', 'Mady', 'Glenys', 'Cloe', 'Björn', 'Idelle', 'Mady',\n",
    "                                                 'Björn', 'Barbra', 'Vittorio', 'Louis', 'Björn', 'Mady', 'Vittorio', 'Illtyd',\n",
    "                                                 'Olavi', 'Olavi', 'Barbra', 'Björn', 'Giedrius', 'Mady', 'Placide', 'Faizel',\n",
    "                                                 'Barbra', 'Marwa', 'Idelle', 'Placide', 'Olavi', 'Olavi', 'Placide', 'Cain',\n",
    "                                                 'Vittorio', 'Louis', 'Placide', 'Jakob', 'Kirsa', 'Barbra', 'Marwa', 'Vittorio',\n",
    "                                                 'Louis', 'Idelle', 'Illtyd', 'Louis', 'Giedrius', 'Olavi', 'Barbra', 'Mady', 'Barbra',\n",
    "                                                 'Barbra', 'Rufino', 'Cloe', 'Barbra', 'Louis', 'Björn', 'Cloe', 'Björn', 'Mady',\n",
    "                                                 'Barbra', 'Rufino', 'Björn', 'Kirsa', 'Vittore', 'Björn', 'Faizel', 'Jakob', 'Kirsa',\n",
    "                                                 'Cloe', 'Vittore', 'Vittore', 'Björn', 'Björn', 'Teodor', 'Barbra', 'Rufino', 'Louis',\n",
    "                                                 'Rufino', 'Vittorio', 'Mady', 'Olavi', 'Teodor', 'Teodor', 'Mady', 'Faizel', 'Olavi',\n",
    "                                                 'Björn', 'Cloe', 'Cloe', 'Idelle', 'Barbra', 'Louis', 'Barbra', 'Vittore', 'Giedrius',\n",
    "                                                 'Vittorio', 'Placide', 'Cain', 'Vittore', 'Louis', 'Mady', 'Jakob', 'Barbra', 'Vittore',\n",
    "                                                 'Björn', 'Mady', 'Placide', 'Rufino', 'Placide', 'Cloe', 'Vittorio', 'Barbra', 'Illtyd',\n",
    "                                                 'Rufino', 'Vittore', 'Louis', 'Olavi', 'Louis']\n",
    "    print(\"test Ok\")\n",
    "\n",
    "test_lecture_reseau()"
   ]
  },
  {
   "cell_type": "markdown",
   "metadata": {
    "deletable": false,
    "editable": false,
    "run_control": {
     "frozen": true
    }
   },
   "source": [
    "#### Question 4 : Modélisation d'un réseau par un dictionnaire\n",
    "On préfère pour la suite, utiliser une modélisation du réseau social par un dictionnaire dont où les clés sont les prénoms des personnes du réseau et la valeur associé à une clé est le tableau des amis de la personne indiquée par la clé.\n",
    "\n",
    "- A partir d'un tableau `amis` modélisant les interactions entre personnes d'un réseau, écrire une fonction `dico_reseau(amis)` qui retourne un dictionnaire dont les clés sont les prénoms des membres du réseau et les valeurs le tableau de leurs amis."
   ]
  },
  {
   "cell_type": "code",
   "execution_count": 94,
   "metadata": {},
   "outputs": [
    {
     "data": {
      "text/plain": [
       "{'Giedrius': ['Mady',\n",
       "  'Illtyd',\n",
       "  'Rufino',\n",
       "  'Glenys',\n",
       "  'Björn',\n",
       "  'Louis',\n",
       "  'Vittorio'],\n",
       " 'Mady': ['Giedrius',\n",
       "  'Rufino',\n",
       "  'Idelle',\n",
       "  'Vittore',\n",
       "  'Placide',\n",
       "  'Cloe',\n",
       "  'Vittorio',\n",
       "  'Björn',\n",
       "  'Barbra',\n",
       "  'Teodor',\n",
       "  'Jakob'],\n",
       " 'Kirsa': ['Vittore', 'Vittorio', 'Barbra', 'Jakob'],\n",
       " 'Vittore': ['Kirsa', 'Vittorio', 'Barbra', 'Cloe', 'Mady', 'Björn', 'Louis'],\n",
       " 'Barbra': ['Faizel',\n",
       "  'Vittorio',\n",
       "  'Vittore',\n",
       "  'Kirsa',\n",
       "  'Olavi',\n",
       "  'Marwa',\n",
       "  'Mady',\n",
       "  'Rufino',\n",
       "  'Cloe',\n",
       "  'Louis'],\n",
       " 'Faizel': ['Barbra', 'Placide', 'Rufino', 'Björn', 'Olavi'],\n",
       " 'Vittorio': ['Vittore',\n",
       "  'Barbra',\n",
       "  'Cloe',\n",
       "  'Placide',\n",
       "  'Louis',\n",
       "  'Kirsa',\n",
       "  'Rufino',\n",
       "  'Olavi',\n",
       "  'Mady',\n",
       "  'Cain',\n",
       "  'Giedrius'],\n",
       " 'Louis': ['Placide',\n",
       "  'Cloe',\n",
       "  'Vittorio',\n",
       "  'Rufino',\n",
       "  'Björn',\n",
       "  'Giedrius',\n",
       "  'Barbra',\n",
       "  'Vittore'],\n",
       " 'Placide': ['Louis',\n",
       "  'Vittorio',\n",
       "  'Faizel',\n",
       "  'Mady',\n",
       "  'Rufino',\n",
       "  'Jakob',\n",
       "  'Olavi',\n",
       "  'Cain',\n",
       "  'Cloe'],\n",
       " 'Cloe': ['Björn',\n",
       "  'Vittorio',\n",
       "  'Vittore',\n",
       "  'Teodor',\n",
       "  'Louis',\n",
       "  'Mady',\n",
       "  'Idelle',\n",
       "  'Glenys',\n",
       "  'Barbra',\n",
       "  'Placide'],\n",
       " 'Björn': ['Cloe',\n",
       "  'Olavi',\n",
       "  'Idelle',\n",
       "  'Mady',\n",
       "  'Louis',\n",
       "  'Giedrius',\n",
       "  'Rufino',\n",
       "  'Faizel',\n",
       "  'Vittore',\n",
       "  'Teodor'],\n",
       " 'Rufino': ['Mady',\n",
       "  'Olavi',\n",
       "  'Giedrius',\n",
       "  'Illtyd',\n",
       "  'Vittorio',\n",
       "  'Placide',\n",
       "  'Teodor',\n",
       "  'Faizel',\n",
       "  'Louis',\n",
       "  'Barbra',\n",
       "  'Björn'],\n",
       " 'Olavi': ['Rufino',\n",
       "  'Teodor',\n",
       "  'Björn',\n",
       "  'Illtyd',\n",
       "  'Vittorio',\n",
       "  'Barbra',\n",
       "  'Placide',\n",
       "  'Faizel',\n",
       "  'Louis'],\n",
       " 'Teodor': ['Cloe', 'Olavi', 'Rufino', 'Björn', 'Mady'],\n",
       " 'Idelle': ['Mady', 'Cloe', 'Björn', 'Marwa', 'Illtyd'],\n",
       " 'Illtyd': ['Giedrius', 'Rufino', 'Olavi', 'Idelle'],\n",
       " 'Glenys': ['Giedrius', 'Cloe'],\n",
       " 'Jakob': ['Placide', 'Kirsa', 'Mady'],\n",
       " 'Marwa': ['Idelle', 'Barbra'],\n",
       " 'Cain': ['Vittorio', 'Placide']}"
      ]
     },
     "execution_count": 94,
     "metadata": {},
     "output_type": "execute_result"
    }
   ],
   "source": [
    "tab=lecture_reseau(\"files/Communaute1.csv\")\n",
    "\n",
    "def dico_reseau(amis):\n",
    "    dico={}\n",
    "    i=0\n",
    "    while i<len(amis):\n",
    "        if amis[i] not in dico:\n",
    "            tab=[]\n",
    "            n=0\n",
    "            while n<len(amis)-1:\n",
    "                if amis[n] == amis[i]:\n",
    "                    if n%2==0:\n",
    "                        if amis[n+1] not in tab:\n",
    "                            tab.append(amis[n+1])\n",
    "                    else:\n",
    "                        if amis[n-1] not in tab:\n",
    "                            tab.append(amis[n-1])\n",
    "                n+=1\n",
    "            dico[amis[i]]=tab\n",
    "            tab=[]\n",
    "        i+=1\n",
    "    return dico\n",
    "\n",
    "dico_reseau(tab)"
   ]
  },
  {
   "cell_type": "markdown",
   "metadata": {
    "deletable": false,
    "editable": false,
    "run_control": {
     "frozen": true
    }
   },
   "source": [
    "#### Question 5 : Nombre d'amis des personnes les plus populaires\n",
    "\n",
    "- A partir d'un dictionnaire `dico_reseau` modélisant les interactions dans un réseau d'amis, écrire une fonction `nb_amis_plus_pop (dico_reseau)` qui retourne le nombre d'amis des personnes les plus populaires du réseau."
   ]
  },
  {
   "cell_type": "code",
   "execution_count": 95,
   "metadata": {},
   "outputs": [
    {
     "data": {
      "text/plain": [
       "11"
      ]
     },
     "execution_count": 95,
     "metadata": {},
     "output_type": "execute_result"
    }
   ],
   "source": [
    "dico=dico_reseau(tab)\n",
    "\n",
    "def nb_amis_plus_pop(dico_reseau):\n",
    "    cle=list(dico_reseau)\n",
    "    max_amis=0\n",
    "    i=0\n",
    "    while i<len(cle):\n",
    "        if len(dico_reseau[cle[i]]) > max_amis:\n",
    "            max_amis=len(dico_reseau[cle[i]])\n",
    "        i+=1\n",
    "    return max_amis\n",
    "\n",
    "nb_amis_plus_pop(dico)"
   ]
  },
  {
   "cell_type": "markdown",
   "metadata": {
    "deletable": false,
    "editable": false,
    "run_control": {
     "frozen": true
    }
   },
   "source": [
    "#### Question 6 : Personnes les plus populaires\n",
    "\n",
    "- A partir d'un dictionnaire `dico_reseau` modélisant les interactions dans un réseau d'amis, écrire une fonction `les_plus_pop (dico_reseau)` qui retourne un tableau contenant les prénoms de toutes les personnes les plus populaires du réseau."
   ]
  },
  {
   "cell_type": "code",
   "execution_count": 99,
   "metadata": {},
   "outputs": [
    {
     "data": {
      "text/plain": [
       "['Mady', 'Vittorio', 'Rufino']"
      ]
     },
     "execution_count": 99,
     "metadata": {},
     "output_type": "execute_result"
    }
   ],
   "source": [
    "def pop_plus_pop(dico_reseau):\n",
    "    cle=list(dico_reseau)\n",
    "    i=0\n",
    "    pers_pop=[]\n",
    "    while i<len(cle):\n",
    "        if len(dico_reseau[cle[i]]) >= nb_amis_plus_pop(dico_reseau):\n",
    "            pers_pop.append(cle[i])\n",
    "        i+=1\n",
    "    return pers_pop\n",
    "\n",
    "pop_plus_pop(dico)"
   ]
  },
  {
   "cell_type": "code",
   "execution_count": 116,
   "metadata": {},
   "outputs": [],
   "source": [
    "dico = {\n",
    "  \"Alice\" : [\"Bob\", \"Dominique\"],\n",
    "  \"Bob\" : [\"Alice\", \"Charlie\", \"Dominique\"],\n",
    "  \"Charlie\" : [\"Bob\"],\n",
    "  \"Dominique\" : [\"Alice\", \"Bob\"]\n",
    "}"
   ]
  },
  {
   "cell_type": "code",
   "execution_count": 131,
   "metadata": {
    "scrolled": true
   },
   "outputs": [
    {
     "data": {
      "text/plain": [
       "{'Bob': ['Charlie', 'Denis'],\n",
       " 'Charlie': ['Bob'],\n",
       " 'Denis': ['Bob', 'Francois'],\n",
       " 'Francois': ['Denis']}"
      ]
     },
     "execution_count": 131,
     "metadata": {},
     "output_type": "execute_result"
    }
   ],
   "source": [
    "\n",
    "amis2=[\"Bob\",\"Charlie\",\"Bob\",\"Denis\",\"Denis\",\"Francois\"]\n",
    "def create_network(list_of_friends):\n",
    "    \"\"\" Retourne un réseau d'amis à partir d'un tableau d'amis en le parcourant une seule fois\"\"\"\n",
    "    dico = {}\n",
    "    i=0\n",
    "    while i<len(list_of_friends):\n",
    "        \n",
    "        if list_of_friends[i] not in dico and list_of_friends[i+1] not in dico:\n",
    "            dico[list_of_friends[i]] = [list_of_friends[i+1]]\n",
    "            dico[list_of_friends[i+1]] = [list_of_friends[i]]\n",
    "            \n",
    "        elif list_of_friends[i] in dico and list_of_friends[i+1] not in dico:\n",
    "            dico[list_of_friends[i]].append(list_of_friends[i+1])\n",
    "            dico[list_of_friends[i+1]] = [list_of_friends[i]]\n",
    "            \n",
    "        elif list_of_friends[i] not in dico and list_of_friends[i+1] in dico:\n",
    "            dico[list_of_friends[i+1]].append(list_of_friends[i])\n",
    "            dico[list_of_friends[i]] = [list_of_friends[i+1]]\n",
    "            \n",
    "        else:\n",
    "            dico[list_of_friends[i]].append(list_of_friends[i+1])\n",
    "            dico[list_of_friends[i+1]].append(list_of_friends[i])\n",
    "            \n",
    "        i+=2\n",
    "    return dico\n",
    "\n",
    "\n",
    "\n",
    "create_network(amis2)"
   ]
  },
  {
   "cell_type": "code",
   "execution_count": 133,
   "metadata": {},
   "outputs": [
    {
     "data": {
      "text/plain": [
       "False"
      ]
     },
     "execution_count": 133,
     "metadata": {},
     "output_type": "execute_result"
    }
   ],
   "source": [
    "def are_friends(network, person1, person2):\n",
    "    \"\"\" Détermine si une personne est amie avec une autre selon un réseau\"\"\"\n",
    "    amis_pers1=network[person1]\n",
    "    i=0\n",
    "    while i<len(amis_pers1):\n",
    "        if amis_pers1[i] == person2:\n",
    "            return True\n",
    "        i+=1\n",
    "    return False\n",
    "\n",
    "\n",
    "\n",
    "dico = {\n",
    "  \"Alice\" : [\"Bob\", \"Dominique\"],\n",
    "  \"Bob\" : [\"Alice\", \"Charlie\", \"Dominique\"],\n",
    "  \"Charlie\" : [\"Bob\"],\n",
    "  \"Dominique\" : [\"Alice\", \"Bob\"]\n",
    "}\n",
    "\n",
    "are_friends(dico, \"Alice\", \"Charlie\")"
   ]
  },
  {
   "cell_type": "code",
   "execution_count": 137,
   "metadata": {},
   "outputs": [
    {
     "data": {
      "text/plain": [
       "False"
      ]
     },
     "execution_count": 137,
     "metadata": {},
     "output_type": "execute_result"
    }
   ],
   "source": [
    "dico = {\n",
    "  \"Alice\" : [\"Bob\", \"Dominique\"],\n",
    "  \"Bob\" : [\"Alice\", \"Charlie\", \"Dominique\"],\n",
    "  \"Charlie\" : [\"Bob\"],\n",
    "  \"Dominique\" : [\"Alice\", \"Bob\"]\n",
    "}\n",
    "\n",
    "def all_his_friends(network, person, group):\n",
    "    \"\"\" Détermine si une personne est amie avec toutes les personnes du groupe à partir d'un réseau\"\"\"\n",
    "    i=0\n",
    "    while i<len(group):\n",
    "        if are_friends(network, person, group[i]) == False:\n",
    "            return False\n",
    "        i+=1\n",
    "    return True\n",
    "\n",
    "all_his_friends(dico, 'Alice', [\"Charlie\", 'Dominique'])"
   ]
  },
  {
   "cell_type": "code",
   "execution_count": 138,
   "metadata": {},
   "outputs": [
    {
     "data": {
      "text/plain": [
       "True"
      ]
     },
     "execution_count": 138,
     "metadata": {},
     "output_type": "execute_result"
    }
   ],
   "source": [
    "\n",
    "dico = {\n",
    "  \"Alice\" : [\"Bob\", \"Dominique\"],\n",
    "  \"Bob\" : [\"Alice\", \"Charlie\", \"Dominique\"],\n",
    "  \"Charlie\" : [\"Bob\"],\n",
    "  \"Dominique\" : [\"Alice\", \"Bob\"]\n",
    "}\n",
    "\n",
    "\n",
    "def is_a_community(network, group):\n",
    "    \"\"\" Détermine si le groupe est une communauté, c'est-à-dire si toutes les personnes du groupe sont amies entre elles\"\"\"\n",
    "    i=0\n",
    "    while i<len(group):\n",
    "        n=0\n",
    "        while n<len(group):\n",
    "            if n!=i:\n",
    "                if are_friends(network, group[i], group[n])==False:\n",
    "                    return False\n",
    "            n+=1\n",
    "        i+=1\n",
    "    return True\n",
    "\n",
    "is_a_community(dico, ['Alice','Bob','Dominique'])"
   ]
  },
  {
   "cell_type": "code",
   "execution_count": 118,
   "metadata": {},
   "outputs": [
    {
     "data": {
      "text/plain": [
       "['Alice', 'Bob', 'Dominique']"
      ]
     },
     "execution_count": 118,
     "metadata": {},
     "output_type": "execute_result"
    }
   ],
   "source": [
    "\n",
    "dico = {\n",
    "  \"Alice\" : [\"Bob\", \"Dominique\"],\n",
    "  \"Bob\" : [\"Alice\", \"Charlie\", \"Dominique\"],\n",
    "  \"Charlie\" : [\"Bob\"],\n",
    "  \"Dominique\" : [\"Alice\", \"Bob\"]\n",
    "}\n",
    "\n",
    "\n",
    "def find_community(network, group):\n",
    "    community=[]\n",
    "    i=0\n",
    "    while i<len(group):\n",
    "        n=0\n",
    "        res=True\n",
    "        while n<len(community):\n",
    "            if n!=i:\n",
    "                if are_friends(network, group[i], community[n]) == False:\n",
    "                    res=False\n",
    "            n+=1\n",
    "            \n",
    "        if res==True:\n",
    "            community.append(group[i])\n",
    "            \n",
    "        i+=1\n",
    "    return community\n",
    "\n",
    "find_community(dico,[\"Alice\", \"Bob\", \"Charlie\", \"Dominique\"])"
   ]
  },
  {
   "cell_type": "code",
   "execution_count": 141,
   "metadata": {},
   "outputs": [
    {
     "data": {
      "text/plain": [
       "['Bob', 'Dominique', 'Charlie']"
      ]
     },
     "execution_count": 141,
     "metadata": {},
     "output_type": "execute_result"
    }
   ],
   "source": [
    "dico = {\n",
    "  \"Alice\" : [\"Bob\", \"Dominique\"],\n",
    "  \"Bob\" : [\"Alice\", \"Charlie\", \"Dominique\"],\n",
    "  \"Charlie\" : [\"Bob\"],\n",
    "  \"Dominique\" : [\"Alice\", \"Bob\"]\n",
    "}\n",
    "\n",
    "\n",
    "def order_by_decreasing_popularity(network, group):\n",
    "    statut=False\n",
    "    while not statut:\n",
    "        statut=True\n",
    "        i=0\n",
    "        while i<len(group)-1:\n",
    "            if len(network[group[i+1]])>len(network[group[i]]):\n",
    "                statut=False\n",
    "                group[i], group[i+1]=group[i+1], group[i]\n",
    "            i+=1\n",
    "    return group\n",
    "        \n",
    "\n",
    "order_by_decreasing_popularity(dico2, [\"Bob\", \"Charlie\",\"Dominique\"])"
   ]
  },
  {
   "cell_type": "code",
   "execution_count": 140,
   "metadata": {},
   "outputs": [
    {
     "data": {
      "text/plain": [
       "['Bob', 'Alice', 'Dominique', 'Charlie']"
      ]
     },
     "execution_count": 140,
     "metadata": {},
     "output_type": "execute_result"
    }
   ],
   "source": [
    "def find_community_by_decreasing_popularity(network):\n",
    "    persons=list(network)\n",
    "    order_by_decreasing_popularity(network, persons)\n",
    "    find_community(network, persons)\n",
    "    return persons\n",
    "    \n",
    "    \n",
    "find_community_by_decreasing_popularity(dico)"
   ]
  },
  {
   "cell_type": "code",
   "execution_count": 142,
   "metadata": {},
   "outputs": [
    {
     "data": {
      "text/plain": [
       "['Alice', 'Bob', 'Dominique']"
      ]
     },
     "execution_count": 142,
     "metadata": {},
     "output_type": "execute_result"
    }
   ],
   "source": [
    "\n",
    "dico = {\n",
    "  \"Alice\" : [\"Bob\", \"Dominique\"],\n",
    "  \"Bob\" : [\"Alice\", \"Charlie\", \"Dominique\"],\n",
    "  \"Charlie\" : [\"Bob\"],\n",
    "  \"Dominique\" : [\"Alice\", \"Bob\"]\n",
    "}\n",
    "\n",
    "def find_community_from_person(network, person):\n",
    "    community=[person]\n",
    "    amis=list(network[person])\n",
    "    order_by_decreasing_popularity(network, amis)\n",
    "    community+=find_community(network, amis)\n",
    "    return community\n",
    "    \n",
    "    \n",
    "find_community_from_person(dico, \"Alice\")\n"
   ]
  },
  {
   "cell_type": "code",
   "execution_count": 128,
   "metadata": {},
   "outputs": [
    {
     "data": {
      "text/plain": [
       "['Dominique', 'Bob', 'Alice']"
      ]
     },
     "execution_count": 128,
     "metadata": {},
     "output_type": "execute_result"
    }
   ],
   "source": [
    "def find_max_community(network):\n",
    "    community=[]\n",
    "    persons=list(network)\n",
    "    i=0\n",
    "    while i<len(persons)-1:\n",
    "        if len(find_community_from_person(network, persons[i]))<len(find_community_from_person(network, persons[i+1])):\n",
    "            community=find_community_from_person(network, persons[i+1])\n",
    "        i+=1\n",
    "    return community\n",
    "\n",
    "find_max_community(dico)\n",
    "    "
   ]
  },
  {
   "cell_type": "code",
   "execution_count": null,
   "metadata": {},
   "outputs": [],
   "source": []
  }
 ],
 "metadata": {
  "kernelspec": {
   "display_name": "Python 3 (ipykernel)",
   "language": "python",
   "name": "python3"
  },
  "language_info": {
   "codemirror_mode": {
    "name": "ipython",
    "version": 3
   },
   "file_extension": ".py",
   "mimetype": "text/x-python",
   "name": "python",
   "nbconvert_exporter": "python",
   "pygments_lexer": "ipython3",
   "version": "3.9.12"
  },
  "latex_envs": {
   "LaTeX_envs_menu_present": true,
   "autoclose": false,
   "autocomplete": true,
   "bibliofile": "biblio.bib",
   "cite_by": "apalike",
   "current_citInitial": 1,
   "eqLabelWithNumbers": true,
   "eqNumInitial": 1,
   "hotkeys": {
    "equation": "Ctrl-E",
    "itemize": "Ctrl-I"
   },
   "labels_anchors": false,
   "latex_user_defs": false,
   "report_style_numbering": false,
   "user_envs_cfg": false
  }
 },
 "nbformat": 4,
 "nbformat_minor": 2
}
