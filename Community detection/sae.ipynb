{
 "cells": [
  {
   "cell_type": "code",
   "execution_count": 1,
   "id": "098838dc",
   "metadata": {},
   "outputs": [],
   "source": [
    "def create_network(list_of_friends):\n",
    "    \"\"\" Retourne un réseau d'amis à partir d'un tableau d'amis en le parcourant une seule fois\"\"\"\n",
    "    reseau = {}\n",
    "    amis = list_of_friends\n",
    "    i = 0\n",
    "    while i < len(amis):\n",
    "        if amis[i] not in reseau and amis[i+1] not in reseau:\n",
    "            reseau[amis[i]] = [amis[i+1]]\n",
    "            reseau[amis[i+1]] = [amis[i]]\n",
    "        elif amis[i] in reseau and amis[i+1] not in reseau:\n",
    "            reseau[amis[i]].append(amis[i+1])\n",
    "            reseau[amis[i+1]] = [amis[i]]\n",
    "        elif amis[i] not in reseau and amis[i+1] in reseau:\n",
    "            reseau[amis[i+1]].append(amis[i])\n",
    "            reseau[amis[i]] = [amis[i+1]]\n",
    "        else:\n",
    "            reseau[amis[i]].append(amis[i+1])\n",
    "            reseau[amis[i+1]].append(amis[i])\n",
    "        i += 2\n",
    "    return reseau\n"
   ]
  },
  {
   "cell_type": "code",
   "execution_count": 2,
   "id": "f61dc03f",
   "metadata": {},
   "outputs": [],
   "source": [
    "def get_people(network):\n",
    "    \"\"\" Obtient la liste de tous les amis à partir d'un réseau\"\"\"\n",
    "    persons = list(network)\n",
    "    return persons"
   ]
  },
  {
   "cell_type": "code",
   "execution_count": 3,
   "id": "9c85ae8f",
   "metadata": {},
   "outputs": [],
   "source": [
    "def are_friends(network, person1, person2):\n",
    "    \"\"\" Détermine si une personne est amie avec une autre selon un réseau\"\"\"\n",
    "    res=False\n",
    "    if person1 in network[person2] and person2 in network[person1]:\n",
    "        res=True\n",
    "    return res"
   ]
  },
  {
   "cell_type": "code",
   "execution_count": 4,
   "id": "2b6b2925",
   "metadata": {},
   "outputs": [],
   "source": [
    "def all_his_friends(network, person, group):\n",
    "    \"\"\" Détermine si une personne est amie avec toutes les personnes du groupe à partir d'un réseau\"\"\"\n",
    "    i=0\n",
    "    while i<len(group):\n",
    "        if are_friends(network, person, group[i]) == False:\n",
    "            return False\n",
    "        else:\n",
    "            i+=1\n",
    "    return True"
   ]
  },
  {
   "cell_type": "code",
   "execution_count": 5,
   "id": "47e28b0b",
   "metadata": {},
   "outputs": [],
   "source": [
    "def is_a_community(network, group):\n",
    "    \"\"\" Détermine si le groupe est une communauté, c'est-à-dire si toutes les personnes du groupe sont amies entre elles\"\"\"\n",
    "    i=0\n",
    "    while i<len(group):\n",
    "        n=0\n",
    "        while n<len(group):\n",
    "            all_his_friends(network, group[i], group[n])==False:\n",
    "                return False\n",
    "            else:\n",
    "                i+=1\n",
    "    return True"
   ]
  },
  {
   "cell_type": "code",
   "execution_count": 6,
   "id": "cb6420a8",
   "metadata": {},
   "outputs": [],
   "source": [
    "def find_community(network, group):\n",
    "    \"\"\" Trouve une communauté possible grâce à un groupe et un réseau d'amis selon l'heuristique suivante:\n",
    "    - On part d'une communauté vide.\n",
    "    - On considère les personnes les unes après les autres. Pour chacune des personnes, si celle-ci est amie avec tous les membres de la communauté déjà créée, alors on l'ajoute à la communauté.\"\"\"\n",
    "    community = []\n",
    "    for person in group:\n",
    "        if all_his_friends(network, person, community):\n",
    "            community.append(person)\n",
    "    return community"
   ]
  },
  {
   "cell_type": "code",
   "execution_count": 7,
   "id": "438ce516",
   "metadata": {},
   "outputs": [],
   "source": [
    "def order_by_decreasing_popularity(network, group):\n",
    "    \"\"\" Retourne un tableau d'amis les plus populaires selon un groupe d'amis et un réseau d'amis\"\"\"\n",
    "    popularity = {person: len(network[person]) for person in group}\n",
    "    for i in range(len(group)):\n",
    "        for j in range(i+1, len(group)):\n",
    "            if popularity[group[i]] < popularity[group[j]]:\n",
    "                group[i], group[j] = group[j], group[i]\n",
    "    return group"
   ]
  },
  {
   "cell_type": "code",
   "execution_count": 8,
   "id": "c5c0ebba",
   "metadata": {},
   "outputs": [],
   "source": [
    "def find_community_by_decreasing_popularity(network):\n",
    "    \"\"\" Trie l'ensemble des personnes du réseau selon l'ordre décroissant de popularité puis retourne la communauté selon l'heuristique suivante:\n",
    "    - On part d'une communauté vide.\n",
    "    - On considère les personnes les unes après les autres. Pour chacune des personnes, si celle-ci est amie avec tous les membres de la communauté déjà créée, alors on l'ajoute à la communauté.\"\"\"\n",
    "    community = []\n",
    "    people = list(network)\n",
    "    people = order_by_decreasing_popularity(network, people)\n",
    "    for person in people:\n",
    "        if all_his_friends(network, person, community):\n",
    "            community.append(person)\n",
    "    return community"
   ]
  },
  {
   "cell_type": "code",
   "execution_count": 9,
   "id": "9245760c",
   "metadata": {},
   "outputs": [],
   "source": [
    "def find_community_from_person(network, person):\n",
    "    \"\"\" Retourne une communauté maximale contenant une personne selon l'heuristique suivante:\n",
    "    - on choisit une personne du réseau,\n",
    "    - on crée une communauté contenant juste cette personne,\n",
    "    - on considère les amis de cette personne par ordre de popularité décroissante. Pour chacune de ces personnes, si celle-ci est amie avec tous les membres de la communauté déjà créée, alors on l'ajoute à la communauté.\"\"\"\n",
    "    community = [person]\n",
    "    amis = network[person]\n",
    "    amis = order_by_decreasing_popularity(network, list(amis))\n",
    "    for ami in amis:\n",
    "        if all_his_friends(network, ami, community):\n",
    "            community.append(ami)\n",
    "    return community"
   ]
  },
  {
   "cell_type": "code",
   "execution_count": null,
   "id": "46dc736f",
   "metadata": {},
   "outputs": [],
   "source": [
    "def find_max_community(network):\n",
    "    \"\"\"Retourne la plus grande communauté trouvée avec un réseau et suivant l'heuristique suivante:\n",
    "    - on choisit une personne du réseau,\n",
    "    - on crée une communauté contenant juste cette personne,\n",
    "    - on considère les amis de cette personne par ordre de popularité décroissante. Pour chacune de ces personnes, si celle-ci est amie avec tous les membres de la communauté déjà créée, alors on l'ajoute à la communauté.\"\"\"\n",
    "    # On initialise la communauté maximale avec une liste vide\n",
    "    max_community = []\n",
    "    # On parcourt toutes les personnes du réseau\n",
    "    for person in network:\n",
    "        # On cherche la communauté maximale contenant cette personne\n",
    "        community = find_community_from_person(network, person)\n",
    "        # Si la communauté trouvée est plus grande que la communauté maximale actuelle, on met à jour la communauté maximale\n",
    "        if len(community) > len(max_community):\n",
    "            max_community = community\n",
    "    # On retourne la communauté maximale trouvée\n",
    "    return max_community"
   ]
  }
 ],
 "metadata": {
  "kernelspec": {
   "display_name": "Python 3 (ipykernel)",
   "language": "python",
   "name": "python3"
  },
  "language_info": {
   "codemirror_mode": {
    "name": "ipython",
    "version": 3
   },
   "file_extension": ".py",
   "mimetype": "text/x-python",
   "name": "python",
   "nbconvert_exporter": "python",
   "pygments_lexer": "ipython3",
   "version": "3.9.12"
  }
 },
 "nbformat": 4,
 "nbformat_minor": 5
}
