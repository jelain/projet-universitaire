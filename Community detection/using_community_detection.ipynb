{
 "cells": [
  {
   "cell_type": "markdown",
   "metadata": {},
   "source": [
    "# Question 2: \n",
    "Theoriquement \"dico_reseau\" est plus lent que \"create_network\":\n",
    "\n",
    "\"dico_reseau\" est une fonction avec une complexité quadractique O(n²) car on parcours plusieurs fois le tableau en parametre alors que \"create_network\" est lineaire O(n) car on parcours qu'une seule fois le tableau.\n",
    "    "
   ]
  },
  {
   "cell_type": "code",
   "execution_count": 25,
   "metadata": {},
   "outputs": [
    {
     "name": "stdout",
     "output_type": "stream",
     "text": [
      "temps create_network: 0.077 ms\n",
      "temps dico_reseau: 0.164 ms\n"
     ]
    }
   ],
   "source": [
    "amis = [\"Alice\", \"Bob\", \"Alice\", \"Charlie\", \"Bob\", \"Denis\"]\n",
    "import time\n",
    "\n",
    "def create_network(list_of_friends):\n",
    "    '''Retourne un réseau d’amis à partir d’un tableau de couples d’amis en le parcourant seulement qu’une seule fois.'''\n",
    "    dico = {}\n",
    "    i = 0\n",
    "    while i < len(list_of_friends):\n",
    "        if list_of_friends[i] not in dico and list_of_friends[i+1] not in dico:\n",
    "            dico[list_of_friends[i]] = [list_of_friends[i+1]]\n",
    "            dico[list_of_friends[i+1]] = [list_of_friends[i]]\n",
    "\n",
    "        elif list_of_friends[i] in dico and list_of_friends[i+1] not in dico:\n",
    "            dico[list_of_friends[i]].append(list_of_friends[i+1])\n",
    "            dico[list_of_friends[i+1]] = [list_of_friends[i]]\n",
    "            \n",
    "        elif list_of_friends[i] not in dico and list_of_friends[i+1] in dico:\n",
    "            dico[list_of_friends[i+1]].append(list_of_friends[i])\n",
    "            dico[list_of_friends[i]] = [list_of_friends[i+1]]\n",
    "            \n",
    "        else:\n",
    "            dico[list_of_friends[i]].append(list_of_friends[i+1])\n",
    "            dico[list_of_friends[i+1]].append(list_of_friends[i])  \n",
    "        i += 2\n",
    "    return dico\n",
    "    \n",
    "start = time.time()\n",
    "create_network(amis)\n",
    "end = time.time()\n",
    "\n",
    "temps= end-start\n",
    "print(\"Temps create_network:\",round(temps*1000,3),\"ms\")\n",
    "\n",
    "\n",
    "\n",
    "\n",
    "def liste_amis(amis, prenom):\n",
    "    \"\"\"\n",
    "        Retourne la liste des amis de prenom en fonction du tableau amis.\n",
    "    \"\"\"\n",
    "    prenoms_amis = []\n",
    "    i = 0\n",
    "    while i < len(amis)//2:\n",
    "        if amis[2 * i] == prenom:\n",
    "            prenoms_amis.append(amis[2*i+1])\n",
    "        elif amis[2*i+1] == prenom:\n",
    "            prenoms_amis.append(amis[2*i])\n",
    "        i += 1\n",
    "    return prenoms_amis\n",
    "\n",
    "\n",
    "def personnes_reseau(amis):\n",
    "    \"\"\" Retourne un tableau contenant la liste des personnes du réseau.\"\"\"\n",
    "    people = []\n",
    "    i = 0\n",
    "    while i < len(amis):\n",
    "        if amis[i] not in people:\n",
    "            people.append(amis[i])\n",
    "        i += 1\n",
    "    return people\n",
    "\n",
    "\n",
    "def dico_reseau(amis):\n",
    "    \"\"\" Retourne le dictionnaire correspondant au réseau.\"\"\"\n",
    "    dico = {}\n",
    "    people = personnes_reseau(amis)\n",
    "    i = 0\n",
    "    while i < len(people):\n",
    "        dico[people[i]] = liste_amis(amis, people[i])\n",
    "        i += 1\n",
    "    return dico\n",
    "\n",
    "\n",
    "start = time.time()\n",
    "dico_reseau(amis)\n",
    "end = time.time()\n",
    "\n",
    "temps= end-start\n",
    "print(\"Temps dico_reseau:\",round(temps*1000,3),\"ms\")\n"
   ]
  },
  {
   "cell_type": "markdown",
   "metadata": {},
   "source": [
    "# Question 11:\n",
    "    \n",
    "La fonction find_community_by_decreasing_popularity parcourt l'ensemble des personnes du réseau et pour chaque personne, elle construit une communauté en parcourant les amis de cette personne et en vérifiant si chaque ami est ami avec tous les membres de la communauté déjà créée. Elle trie également les amis de chaque personne en fonction de leur popularité décroissante avant de les parcourir. La complexité de cette fonction est donc en O(n) donc lineaire.\n",
    "\n",
    "Pour la fonction find_community_from_person, on commence par rechercher la personne la plus populaire, ce qui a une complexité en O(n). Ensuite, on parcourt les amis de cette personne et on vérifie si chaque ami est ami avec tous les membres de la communauté déjà créée, la complexité de cette étape est également en O(n). Donc la complexité de cette fonction est en O(n) + O(n) = O(n).\n"
   ]
  },
  {
   "cell_type": "code",
   "execution_count": null,
   "metadata": {},
   "outputs": [],
   "source": [
    "\n"
   ]
  }
 ],
 "metadata": {
  "kernelspec": {
   "display_name": "Python 3 (ipykernel)",
   "language": "python",
   "name": "python3"
  },
  "language_info": {
   "codemirror_mode": {
    "name": "ipython",
    "version": 3
   },
   "file_extension": ".py",
   "mimetype": "text/x-python",
   "name": "python",
   "nbconvert_exporter": "python",
   "pygments_lexer": "ipython3",
   "version": "3.9.12"
  }
 },
 "nbformat": 4,
 "nbformat_minor": 2
}
